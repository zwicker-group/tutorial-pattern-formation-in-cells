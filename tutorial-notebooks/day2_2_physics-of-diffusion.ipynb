{
 "cells": [
  {
   "cell_type": "code",
   "execution_count": 1,
   "id": "6af6e5c4",
   "metadata": {},
   "outputs": [],
   "source": [
    "# This notebook requires py-pde in version 0.17.1 or later\n",
    "# The package can be obtained from https://github.com/zwicker-group/py-pde\n",
    "# Alternatively, it can be installed via pip or conda\n",
    "\n",
    "import pde\n",
    "\n",
    "# plotting functions\n",
    "import matplotlib.pyplot as plt\n",
    "import numpy as np"
   ]
  },
  {
   "cell_type": "markdown",
   "id": "9f82fe2c",
   "metadata": {},
   "source": [
    "So far, we have looked at simple diffusion ($\\nabla^2 c$), where patterns arose from non-linear reactions.\n",
    "\n",
    "Next, we want to go beyond simple diffusion. We will see that patterns can then arise even from linear reactions."
   ]
  },
  {
   "cell_type": "markdown",
   "id": "7a3a6851",
   "metadata": {},
   "source": [
    "# Physics of simple diffusion\n",
    "\n",
    "To understand more complex cases, let us first investigate the physics of simple diffusion.\n",
    "Simple diffusion is a good description of dilute solutions or ideal gases."
   ]
  },
  {
   "cell_type": "markdown",
   "id": "1bade711",
   "metadata": {},
   "source": [
    "## Thermodynamics of ideal solutions\n",
    "\n",
    "Let us consider $N$ particles in a volume $V$ at fixed temperature $T$.\n",
    "We then know (from Statistical Mechanics):\n",
    "\n",
    "- The free energy $F=k_\\mathrm{B}T N\\left[\\ln\\frac{N}{V} + a \\right]$\n",
    "- The chemical potential $\\mu = \\left(\\frac{\\partial F}{\\partial N}\\right)_{V,T} = k_\\mathrm{B}T \\ln\\frac{N}{V} + \\mu_0 $\n",
    "\n",
    "Defining the concentration $c=\\frac{N}{V}$, we find the simpler expression\n",
    "\\begin{align}\n",
    "\\mu = k_\\mathrm{B}T \\ln c + \\mu_0\n",
    "\\end{align}"
   ]
  },
  {
   "cell_type": "markdown",
   "id": "685d86f7",
   "metadata": {},
   "source": [
    "### Problem 1: Chemical potential of ideal solutions\n",
    "Plot the chemical potential $\\mu$ as a function of $c$. Can you interpret the qualitative functional form?"
   ]
  },
  {
   "cell_type": "code",
   "execution_count": 2,
   "id": "0e6b7583",
   "metadata": {},
   "outputs": [
    {
     "ename": "SyntaxError",
     "evalue": "invalid syntax (2156466757.py, line 2)",
     "output_type": "error",
     "traceback": [
      "\u001b[0;36m  File \u001b[0;32m\"/var/folders/dy/9_2jrg4s4zj7m6c8z14d5ntw0000gn/T/ipykernel_61299/2156466757.py\"\u001b[0;36m, line \u001b[0;32m2\u001b[0m\n\u001b[0;31m    plt.plot(c, %% BLANK %%)\u001b[0m\n\u001b[0m                ^\u001b[0m\n\u001b[0;31mSyntaxError\u001b[0m\u001b[0;31m:\u001b[0m invalid syntax\n"
     ]
    }
   ],
   "source": [
    "c = np.linspace(1, 10)\n",
    "plt.plot(c, %% BLANK %%)\n",
    "plt.xlabel('Concentration $c$')\n",
    "plt.ylabel(r'Chemical potential $\\mu$');"
   ]
  },
  {
   "cell_type": "markdown",
   "id": "bd9715cc",
   "metadata": {},
   "source": [
    "## Dynamics of an inhomogeneous system\n",
    "An inhomogeneous system can be described by a concentration field $c(x, y, t)$. The dynamics of such a system are given by\n",
    "\n",
    "\\begin{align}\n",
    "    \\partial_t c(x, y, t) = \\nabla\\bigl[M(c) \\nabla \\mu(c) \\bigr]\n",
    "\\end{align}"
   ]
  },
  {
   "cell_type": "markdown",
   "id": "97a4b3c9",
   "metadata": {},
   "source": [
    "### Problem 2: Dynamics of ideal solutions\n",
    "Use the chemical potential $\\mu = k_\\mathrm{B}T \\ln c + \\mu_0$ and the mobility function $M(c) = M_0 c$ to derive the dynamics of ideal solutions analytically."
   ]
  },
  {
   "cell_type": "markdown",
   "id": "fa93579d",
   "metadata": {},
   "source": [
    "# Physics of non-ideal fluids\n",
    "We saw that the physics of ideal solutions, which consist of non-interacting particles, leads to simple diffusion.\n",
    "We next consider a simple model of non-ideal fluids, where particles will interact."
   ]
  },
  {
   "cell_type": "markdown",
   "id": "4980fa2f",
   "metadata": {},
   "source": [
    "## Thermodynamics of non-ideal fluids\n",
    "We consider a fluid comprised of two components, $A$ and $B$, which have the same molecular volume $\\nu$.\n",
    "The composition can then be described by the volume fraction $\\phi_B = \\nu c_B$, while $\\phi_A = \\nu c_A = 1- \\phi_B$ because the fluid fills the entire space.\n",
    "We start by deriving the free energy of such solutions, which comprises entropic and enthalpic contributions."
   ]
  },
  {
   "cell_type": "markdown",
   "id": "23d102c7",
   "metadata": {},
   "source": [
    "### Problem 3: Entropic contributions\n",
    "Visualize the entropic contributions\n",
    "\n",
    "\\begin{align}\n",
    "    F_\\mathrm{S} = k_\\mathrm{B} N \\left[\\phi\\ln\\phi + (1 - \\phi)\\ln(1-\\phi)\\right]\n",
    "\\end{align}\n",
    "\n",
    "for $\\phi \\in (0, 1)$.\n",
    "What can you conclude from the qualitative shape?"
   ]
  },
  {
   "cell_type": "code",
   "execution_count": null,
   "id": "f8c6962a",
   "metadata": {},
   "outputs": [],
   "source": [
    "c = np.linspace(0, 1)[1:-1]\n",
    "plt.plot(c, %% BLANK %%)\n",
    "plt.xlabel('Fraction $\\phi$')\n",
    "plt.ylabel(r'Entropic contributions $F_\\mathrm{S}$');"
   ]
  },
  {
   "cell_type": "markdown",
   "id": "bd484fdd",
   "metadata": {},
   "source": [
    "### Problem 4: Enthalpic contributions\n",
    "Visualize the enthalpic contributions\n",
    "\n",
    "\n",
    "\\begin{align}\n",
    "    F_\\mathrm{I} = k_\\mathrm{B} N \\chi \\phi (1 - \\phi)\n",
    "\\end{align}\n",
    "\n",
    "for $\\phi \\in (0, 1)$. What can you conclude from the qualitative shape?"
   ]
  },
  {
   "cell_type": "code",
   "execution_count": null,
   "id": "05e4b104",
   "metadata": {},
   "outputs": [],
   "source": [
    "c = np.linspace(0, 1)[1:-1]\n",
    "plt.plot(c, %% BLANK %%)\n",
    "plt.xlabel('Fraction $\\phi$')\n",
    "plt.ylabel(r'Enthalpic contributions $F_\\mathrm{S}$');"
   ]
  },
  {
   "cell_type": "markdown",
   "id": "ce3b31c3",
   "metadata": {},
   "source": [
    "### Problem 5: Total free energy\n",
    "We now combine the entropic and enthalpic part to obtain the Flory-Huggins free energy \n",
    "\n",
    "\\begin{align}\n",
    "    F = k_\\mathrm{B} N \\left[\\phi\\ln\\phi + (1 - \\phi)\\ln(1-\\phi) + \\chi\\phi(1 - \\phi)\\right]\n",
    "\\end{align}\n",
    "\n",
    "Visualize $F$ as a function of $\\phi \\in(0,1)$ for $\\chi = 1.5$ and $\\chi = 2.5$. What do you notice?"
   ]
  },
  {
   "cell_type": "code",
   "execution_count": null,
   "id": "e863f6f2",
   "metadata": {},
   "outputs": [],
   "source": [
    "c = np.linspace(0, 1)[1:-1]\n",
    "plt.plot(c, %% BLANK %%, label='$\\chi=1.5$')\n",
    "plt.plot(c, %% BLANK %%, label='$\\chi=2.5$')\n",
    "plt.xlabel('Fraction $\\phi$')\n",
    "plt.ylabel(r'Free energy $F$')\n",
    "plt.legend();"
   ]
  },
  {
   "cell_type": "markdown",
   "id": "4e301b40",
   "metadata": {},
   "source": [
    "## Simplified free energy of non-ideal fluids\n",
    "Instead of using the Flory-Huggins free energy, we will use the simpler polynomial form\n",
    "\n",
    "\\begin{align}\n",
    "    F = a V \\phi^2 ( 1- \\phi)^2\n",
    "\\end{align}"
   ]
  },
  {
   "cell_type": "markdown",
   "id": "4b1d8a49",
   "metadata": {},
   "source": [
    "### Problem 6: Visualize the free energy\n",
    "Visualize the free energy for $\\phi\\in[-0.1,1.1]$. What are qualitatively important features of this free energy?"
   ]
  },
  {
   "cell_type": "code",
   "execution_count": null,
   "id": "ef243ee5",
   "metadata": {},
   "outputs": [],
   "source": [
    "c = np.linspace(-0.1, 1.1)\n",
    "plt.plot(c, %% BLANK %%)\n",
    "plt.xlabel('Fraction $\\phi$')\n",
    "plt.ylabel(r'Free energy $F$');"
   ]
  },
  {
   "cell_type": "markdown",
   "id": "ca8c6bbe",
   "metadata": {},
   "source": [
    "### Problem 7: Derive the chemical potential of this free energy"
   ]
  },
  {
   "cell_type": "markdown",
   "id": "2e7ea845",
   "metadata": {},
   "source": [
    "Derive the chemical potential, which is given by $\\mu \\propto \\partial F/\\partial \\phi$.\n",
    "\n",
    "Plot the resulting function. What do you notice?"
   ]
  },
  {
   "cell_type": "code",
   "execution_count": null,
   "id": "71ead3c9",
   "metadata": {},
   "outputs": [],
   "source": [
    "plt.plot(c, %% BLANK %%)\n",
    "plt.xlabel('Fraction $\\phi$')\n",
    "plt.ylabel(r'Chemical potential $\\mu$');"
   ]
  },
  {
   "cell_type": "markdown",
   "id": "1765f480",
   "metadata": {},
   "source": [
    "## Naive dynamics of non-ideal fluids\n",
    "To obtain the dynamics of non-ideal solutions, we next combine the generalized diffusion equation with the chemical potential of a non-ideal solution."
   ]
  },
  {
   "cell_type": "markdown",
   "id": "c57de142",
   "metadata": {},
   "source": [
    "### Problem 8: Naive dynamics of non-ideal solutions\n",
    "Simulate the dynamics of the non-ideal solution using `py-pde`.\n",
    "Start with a random initial condition and observe the behavior over time.\n",
    "\n",
    "What do you observe in the dynamics and the final state?"
   ]
  },
  {
   "cell_type": "code",
   "execution_count": null,
   "id": "d85b544a",
   "metadata": {},
   "outputs": [],
   "source": [
    "# prepare a random initial state\n",
    "grid = pde.UnitGrid([32, 32], periodic=True)\n",
    "initial_state = pde.ScalarField.random_uniform(grid, vmin=0, vmax=1)\n",
    "initial_state.plot();"
   ]
  },
  {
   "cell_type": "code",
   "execution_count": null,
   "id": "599be4b2",
   "metadata": {},
   "outputs": [],
   "source": [
    "# define the partial differential equation\n",
    "eq = pde.PDE({'c': '%% BLANK %%'})\n",
    "eq.expressions"
   ]
  },
  {
   "cell_type": "code",
   "execution_count": null,
   "id": "97983133",
   "metadata": {},
   "outputs": [],
   "source": [
    "# simulate the dynamics\n",
    "final_state = eq.solve(initial_state, t_range=1000, tracker=['progress', 'plot'])\n",
    "final_state.plot();"
   ]
  },
  {
   "cell_type": "markdown",
   "id": "bbe4ea4f",
   "metadata": {},
   "source": [
    "## The gradient term\n",
    "It turns out that our naive approach above neglects an important physics process, namely that it is energetically costly to have two regions of very different composition next to each other. Formally, this can be included in our description by adding a term $\\frac{\\kappa}{2} |\\nabla c|^2$ to the free energy, which needs to be integrated over the entire volume. However, since analyzing this term would require functional analysis, we here simply use its consequence, which is to modify the chemical potential like so,\n",
    "\n",
    "\\begin{align}\n",
    "    \\mu \\propto \\phi (1 - \\phi) (1 - 2 \\phi) - \\kappa \\nabla^2 c\n",
    "\\end{align}"
   ]
  },
  {
   "cell_type": "markdown",
   "id": "1074bd05",
   "metadata": {},
   "source": [
    "### Problem 9: Improved dynamics of non-ideal fluids\n",
    "Simulate the dynamics of the non-ideal solution using the improved chemical potential with $\\kappa=1$.\n",
    "Start with a random initial condition and observe the behavior over time.\n",
    "\n",
    "What do you observe in the dynamics and the final state?"
   ]
  },
  {
   "cell_type": "code",
   "execution_count": null,
   "id": "dc85ea06",
   "metadata": {},
   "outputs": [],
   "source": [
    "# prepare a random initial state\n",
    "grid = pde.UnitGrid([32, 32], periodic=True)\n",
    "initial_state = pde.ScalarField.random_uniform(grid, vmin=0, vmax=1)\n",
    "initial_state.plot();"
   ]
  },
  {
   "cell_type": "code",
   "execution_count": null,
   "id": "d0587ef4",
   "metadata": {},
   "outputs": [],
   "source": [
    "# define the partial differential equation\n",
    "eq = pde.PDE({'c': '%% BLANK %%'})\n",
    "eq.expressions"
   ]
  },
  {
   "cell_type": "code",
   "execution_count": null,
   "id": "9d8f4cd2",
   "metadata": {},
   "outputs": [],
   "source": [
    "# simulate the dynamics\n",
    "final_state = eq.solve(initial_state, t_range=1000, tracker=['progress', 'plot']);\n",
    "final_state.plot();"
   ]
  },
  {
   "cell_type": "markdown",
   "id": "b302b829",
   "metadata": {},
   "source": [
    "### Problem 10: Droplets\n",
    "Re-run the simulation with a initial condition where particles $A$ occupy $25\\%$ and particles B occupy $75\\%$ of the system."
   ]
  },
  {
   "cell_type": "code",
   "execution_count": null,
   "id": "4d1b1548",
   "metadata": {},
   "outputs": [],
   "source": [
    "# prepare a random initial state\n",
    "initial_state = %% BLANK %%\n",
    "initial_state.plot();"
   ]
  },
  {
   "cell_type": "code",
   "execution_count": null,
   "id": "b035764a",
   "metadata": {},
   "outputs": [],
   "source": [
    "# simulate the dynamics\n",
    "final_state = eq.solve(initial_state, t_range=1000, tracker=['progress', 'plot']);\n",
    "final_state.plot();"
   ]
  },
  {
   "cell_type": "markdown",
   "id": "05687313",
   "metadata": {},
   "source": [
    "## Ostwald ripening\n",
    "Phase separating systems have a very stereo-typical dynamics, which is known as Ostwald ripening. To demonstrate this, we next consider a slightly larger system."
   ]
  },
  {
   "cell_type": "markdown",
   "id": "8c9a2157",
   "metadata": {},
   "source": [
    "### Problem 11: Dynamics of many droplets\n",
    "Run the simulation shown below (using the same equation as the last problem). The code below produces a plot of the magnitude as a function of time and a movie of the time evolution.\n",
    "\n",
    "- What do you expect the first plot to look like?\n",
    "- What do you observe in the dynamics of the droplets?\n",
    "- What could be a physical reason for the observed dynamics?"
   ]
  },
  {
   "cell_type": "code",
   "execution_count": null,
   "id": "c222c584",
   "metadata": {},
   "outputs": [],
   "source": [
    "grid = pde.UnitGrid([64, 64], periodic=True)\n",
    "\n",
    "# prepare a random initial state\n",
    "initial_state = pde.ScalarField.random_uniform(grid, vmin=0, vmax=0.5)\n",
    "initial_state.plot();"
   ]
  },
  {
   "cell_type": "code",
   "execution_count": null,
   "id": "27a974c1",
   "metadata": {
    "scrolled": true
   },
   "outputs": [],
   "source": [
    "# simulate the dynamics once and store it, so we don't have to run the long simulation twice.\n",
    "storage = pde.MemoryStorage()  # intialize a storage to save intermediate data\n",
    "eq.solve(initial_state, t_range=1e4, tracker=['progress', 'plot', storage.tracker(10)]);"
   ]
  },
  {
   "cell_type": "code",
   "execution_count": null,
   "id": "4fd8e698",
   "metadata": {},
   "outputs": [],
   "source": [
    "# Plot the average fraction as a function of time\n",
    "pde.plot_magnitudes(storage)"
   ]
  },
  {
   "cell_type": "code",
   "execution_count": null,
   "id": "9752db5a",
   "metadata": {},
   "outputs": [],
   "source": [
    "# make a movie of the evolution\n",
    "pde.movie(storage, 'ostwald_ripening.mp4', progress=True)"
   ]
  },
  {
   "cell_type": "code",
   "execution_count": null,
   "id": "0b637a16",
   "metadata": {},
   "outputs": [],
   "source": []
  }
 ],
 "metadata": {
  "kernelspec": {
   "display_name": "Python 3 (ipykernel)",
   "language": "python",
   "name": "python3"
  },
  "language_info": {
   "codemirror_mode": {
    "name": "ipython",
    "version": 3
   },
   "file_extension": ".py",
   "mimetype": "text/x-python",
   "name": "python",
   "nbconvert_exporter": "python",
   "pygments_lexer": "ipython3",
   "version": "3.8.10"
  },
  "toc": {
   "base_numbering": 1,
   "nav_menu": {},
   "number_sections": true,
   "sideBar": true,
   "skip_h1_title": false,
   "title_cell": "Table of Contents",
   "title_sidebar": "Contents",
   "toc_cell": false,
   "toc_position": {
    "height": "calc(100% - 180px)",
    "left": "10px",
    "top": "150px",
    "width": "336px"
   },
   "toc_section_display": true,
   "toc_window_display": true
  }
 },
 "nbformat": 4,
 "nbformat_minor": 5
}
