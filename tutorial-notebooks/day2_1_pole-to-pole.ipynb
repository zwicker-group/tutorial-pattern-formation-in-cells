{
 "cells": [
  {
   "cell_type": "code",
   "execution_count": null,
   "id": "6af6e5c4",
   "metadata": {},
   "outputs": [],
   "source": [
    "# This notebook requires py-pde in version 0.17.1 or later\n",
    "# The package can be obtained from https://github.com/zwicker-group/py-pde\n",
    "# Alternatively, it can be installed via pip or conda\n",
    "\n",
    "import pde\n",
    "\n",
    "# functools and make_derivative2 are required for anisotropic laplacians\n",
    "import functools\n",
    "from pde.grids.operators.common import make_derivative2\n",
    "\n",
    "# plotting functions\n",
    "import matplotlib.pyplot as plt\n",
    "import numpy as np"
   ]
  },
  {
   "cell_type": "markdown",
   "id": "7a3a6851",
   "metadata": {},
   "source": [
    "# Pole-to-pole oscillations\n",
    "In the previous two notebooks, you learnt about the relevance of membrane interactions and how this can lead to gradients in the bulk (volume, cytosol) of a cell, and about the importance of nonlinearities in the interaction terms. Now, we will combine these two effects to reproduce a prominent example of dynamic protein pattern in living cells: the pole-to-pole oscillations of the MinCDE system in _E. coli_.\n",
    "\n",
    "The MinCDE system regulates the placement of the division site in _E. coli_ bacteria. More precisely, the MinC protein inhibits the formation of the Z-ring. By oscillating between the poles, the MinC proteins is mainly located at the cell poles, and rarely at the cell center. Thus, the inhibitory effect is weakest at the cell center, such that the Z-ring forms just there, resulting in symmetric cell division.\n",
    "\n",
    "If you are unfamiliar with the system, have a look at https://static-movie-usa.glencoesoftware.com/mp4/10.7554/384/2cd69eb620315bb0a04c26d92e1300548d3bca6d/elife-03949-media1.mp4 (from Zieske and Schwille, eLife, 2014, elifesciences.org/articles/03949). The video shows protein concentrations in _E. coli_ cells of varying aspect ratio. In nature, _E. coli_ have an aspect ratio of about $5$ just before cell division, for which the proteins oscillate between the two cell poles (e.g., column 1, row 4 in the linked movie). In the following, we will aim to reproduce these oscillations in simulations.\n",
    "\n",
    "The Min protein oscillations require only the MinD and MinE proteins; the MinC protein is needed for downstream regulation of the Z-ring, but not to maintain the patterning process. Thus, we will only use the former two proteins in the following."
   ]
  },
  {
   "cell_type": "markdown",
   "id": "1bade711",
   "metadata": {},
   "source": [
    "The Min proteins interact with each other as follows:\n",
    " - MinD exists in three states: bound to the membrane ($c_d$, `c_d`), as well as in the cytosol bound to ATP ($c_{DT}$, `c_DT`) and to ADP ($c_{DD}$, `c_DD`).\n",
    " - MinE is present in the cytosol ($c_E$, `c_E`).\n",
    " - On the membrane, MinD and MinE can form a complex ($c_{de}$, `c_de`).\n",
    "\n",
    "\n",
    " - MinD-ATP binds to the membrane at a rate $k_D$. In addition, it is recruited to the membrane by other membrane-bound MinD proteins at a rate $k_{dD}$.\n",
    " - MinE is recruited by MinD to the membrane at a rate $k_{dE}$. Whenever a MinE protein is recruited, it forms a complex together with the MinD protein ($c_{de}$).\n",
    " - MinDE complexes detach from the membrane at a rate $k_{de}$. Upon detachment, the complex breaks up, releasing a MinE protein and a MinD-ADP protein into the cytosol. Note that the MinD-ADP proteins can not bind to the membrane (see above).\n",
    " - Finally, in the cytosol, MinD-ADP is converted to MinD-ATP at a rate $k_{nucEx}$, corresponding to nucleotide exchange."
   ]
  },
  {
   "cell_type": "markdown",
   "id": "2a49a7cd",
   "metadata": {},
   "source": [
    "The corresponding partial differential equations read:\n",
    "$$\n",
    "\\partial_t c_{DD} = D_{cytD} \\cdot \\nabla^2 c_{DD} - k_{nucEx} \\cdot c_{DD} \\\\\n",
    "\\partial_t c_{DT} = D_{cytD} \\cdot \\nabla^2 c_{DT} + k_{nucEx} \\cdot c_{DD} \\\\\n",
    "\\partial_t c_{E} = D_{cytE} \\cdot \\nabla^2 c_{E} \\\\\n",
    "\\partial_t c_{d} = D_{mem} \\cdot \\nabla_m^2 c_{d} + c_{DT} \\cdot ( k_{D} + k_{dD} \\cdot c_d) -  k_{dE} \\cdot c_E \\cdot c_d \\\\\n",
    "\\partial_t c_{de} = D_{mem} \\cdot \\nabla_m^2 c_{de} +  k_{dE} \\cdot c_E \\cdot c_d - k_{de} \\cdot c_{de}  \\, ,\n",
    "$$\n",
    "with reactive boundary conditions for the cytosolic quantities\n",
    "$$\n",
    "D_{cytD} \\, \\nabla_n c_{DD} = k_{de} \\cdot c_{de} \\\\\n",
    "D_{cytD} \\, \\nabla_n c_{DT} = - c_{DT} \\cdot ( k_{D} + k_{dD} \\cdot c_d) \\\\\n",
    "D_{cytE} \\, \\nabla_n c_{E} = k_{de} \\cdot c_{de} - k_{dE} \\cdot c_E \\cdot c_d \\, .\n",
    "$$\n",
    "\n",
    "As before, $\\nabla_n$ denotes the gradient perpendicular to the membrane, whereas $\\nabla_m^2$ is the diffusion operator along the membrane."
   ]
  },
  {
   "cell_type": "markdown",
   "id": "82fcd82e",
   "metadata": {},
   "source": [
    "## Part 1: Analysing the problem heuristically"
   ]
  },
  {
   "cell_type": "markdown",
   "id": "caa75312",
   "metadata": {},
   "source": [
    "### Problem 1: Nonlinearities\n",
    "Note down all the nonlinear terms in the PDEs above."
   ]
  },
  {
   "cell_type": "markdown",
   "id": "2a8f6b4e",
   "metadata": {},
   "source": [
    "### Problem 2: Intuitive analysis\n",
    "Consider the states where MinD and MinE proteins are homogeneously distributed\n",
    " - both on the membrane (only $c_{de}$ is non-zero),\n",
    " - on the membrane (MinD, $c_d \\neq 0$) and in the cytosol (MinE, $c_E \\neq 0$, all other quantities are zero),\n",
    " - both in the cytosol (ATP-bound), i.e., $c_{DD} = c_d = c_{de} = 0$, and the other two quantities are non-zero.\n",
    " \n",
    "For each of these cases, describe (in words) the protein dynamics in this state.\n",
    "\n",
    "_Hint: use phrases like \"MinD proteins bind to the membrane\", \"additional MinD is recruited to the membrane\", \"MinDE complexes detach from the membrane\", etc._"
   ]
  },
  {
   "cell_type": "markdown",
   "id": "7ac9e420",
   "metadata": {},
   "source": [
    "## Part 2: Testing the system numerically\n",
    "### Problem 3\n",
    "The system involves reactive boundary conditions, diffusion on curved membranes, and is extremely sensitive to protein concentration numbers. This all makes a numeric implementation rather tedious, and requires some tinkering at several points. Walk through the following code carefully, and make a list of the steps and pitfalls required when translating a formal set of equations into real code. You are also required to complete (i.e., fill in blanks) the expressions representing the PDEs."
   ]
  },
  {
   "cell_type": "markdown",
   "id": "6354b419",
   "metadata": {},
   "source": [
    "#### Geometry, grid, and concentrations:\n",
    "The Min system is extremely sensitive to variations in average protein concentrations. This means that pole-to-pole oscillations can be observed, for example, at a specific protein concentration $c_E^*$, but for slightly varied concentrations ($\\pm 10 \\%$) the oscillations break down. This poses a major problem for numerical implementation: since the grid is discrete and not continuous, it is not straightforward to define a concentration that respects the conservation of mass and at the same time does not alter the PDEs. In general, this issue can be resolved by carefully rescaling all parameters and quantities based on the mesh resolution. For simplicity, however, we cheat here and use a geometry that happens to have the correct scaling (i.e., one where the grid cells have resolution 1).\n",
    "\n",
    "In nature, _E. coli_ cells are $5 \\mu m$ long and $1 \\mu m$ wide. To observe a pattern, we need about five grid cells (preferably much more) in each direction. Instead of the \"natural\" geometry of the cells, we therefore blow up the geometry by a factor 5, so that we can have sufficiently high resolution of the grid cells while keeping the resolution parameter at 1."
   ]
  },
  {
   "cell_type": "code",
   "execution_count": null,
   "id": "ba604df2",
   "metadata": {},
   "outputs": [],
   "source": [
    "# Define the geometry of the system.\n",
    "# We use a regular grid (rectangle) with a specified width (x-direction) and height (y-direction).\n",
    "\n",
    "width = 25\n",
    "height = 5\n",
    "resolution = 1\n",
    "\n",
    "# pde.CartesianGrid() creates a grid object (mesh) specified by the rectangle corners and a sampling resolution for both axes.\n",
    "grid = pde.CartesianGrid(\n",
    "    [[0, width], [0, height]],\n",
    "    [int(resolution*i) for i in [width, height]]\n",
    ")\n",
    "grid.plot();"
   ]
  },
  {
   "cell_type": "markdown",
   "id": "fda1dfe6",
   "metadata": {},
   "source": [
    "#### Membrane masking:\n",
    "To simulate the membrane dynamics, `py-pde` requires a mask, like in the source-degradation exercise. Now, however, the situation is more complex, since the membrane now encloses the cell (instead of being just one horizontal line). On the horizontal cell membranes, there will be only diffuxion in x-direction, whereas on the vertical membrane there is diffusion in y-direction. To account for this, we define two separate masks, `mask_x` and `mask_y`."
   ]
  },
  {
   "cell_type": "code",
   "execution_count": null,
   "id": "2fbf9c6c",
   "metadata": {},
   "outputs": [],
   "source": [
    "membrane_mask = pde.ScalarField(grid, dtype=float)\n",
    "membrane_mask.data[:, 0] = 1.0\n",
    "membrane_mask.data[:, -1] = 1.0\n",
    "membrane_mask.data[0,:] = 1.0\n",
    "membrane_mask.data[-1,:] = 1.0\n",
    "\n",
    "mask_x, mask_y = [pde.ScalarField(grid, dtype=float) for _ in range(2)]\n",
    "mask_x.data[:,0] = 1.0\n",
    "mask_x.data[:,-1] = 1.0\n",
    "mask_y.data[0,:] = 1.0\n",
    "mask_y.data[-1,:] = 1.0\n",
    "\n",
    "\n",
    "membrane_mask.plot();\n",
    "mask_x.plot();\n",
    "mask_y.plot();"
   ]
  },
  {
   "cell_type": "code",
   "execution_count": null,
   "id": "248f3ea2",
   "metadata": {},
   "outputs": [],
   "source": [
    "# Set up laplace operator in x direction only\n",
    "make_laplace_x = functools.partial(make_derivative2, axis=0)\n",
    "pde.CartesianGrid.register_operator('laplace_x', make_laplace_x)\n",
    "\n",
    "# Set up laplace operator in y direction only\n",
    "make_laplace_y = functools.partial(make_derivative2, axis=1)\n",
    "pde.CartesianGrid.register_operator('laplace_y', make_laplace_y)\n"
   ]
  },
  {
   "cell_type": "markdown",
   "id": "3d796a39",
   "metadata": {},
   "source": [
    "#### Defining the system:\n",
    "Now we can translate the PDEs into code. For the parameters, we use values obtained in Halatek and Frey, Cell, 2012 (cell.com/cell-reports/fulltext/S2211-1247(12)00118-0). These are in parts determined experimentally, and in parts via numeric parameter sweeps."
   ]
  },
  {
   "cell_type": "code",
   "execution_count": null,
   "id": "83633fa3",
   "metadata": {},
   "outputs": [],
   "source": [
    "# Parameters\n",
    "D_cytD = 16\n",
    "D_cytE = 10\n",
    "D_mem = 0.01\n",
    "\n",
    "k_nucEx = 6\n",
    "\n",
    "k_D = 0.1\n",
    "k_dD = 0.1\n",
    "k_dE = 0.4\n",
    "k_de = 0.4\n",
    "\n",
    "nD = 2000\n",
    "nE = 700\n",
    "\n",
    "# Equations with boundary conditions\n",
    "expr = {'c_d' : f'(laplace_x(c_d ) * maskX + laplace_y(c_d ) * maskY) * {D_mem} + ' +  # Diffusion\n",
    "                f'mask * (c_DT * ({k_D} + {k_dD} * c_d) - {k_dE} * c_E * c_d)',        # Reaction\n",
    "        \n",
    "        'c_de': f'                  ## BLANK ##                       * {D_mem} + ' +  # Diffusion\n",
    "                f'mask * ({k_dE} * c_E * c_d - {k_de} * c_de)',                        # Reaction\n",
    "\n",
    "        \n",
    "        'c_E': f'laplace(c_E) * {D_cytE} + ' +                                         # Diffusion\n",
    "               f'mask * ({k_de} * c_de - {k_dE} * c_E * c_d)',                         # Boundary\n",
    "        \n",
    "        'c_DD': f'laplace(c_DD) * {D_cytD} ' +                                         # Diffusion\n",
    "                f'- {k_nucEx} * c_DD + ' +                                             # Reactions\n",
    "                f'mask * ({k_de} * c_de)',                                             # Boundary\n",
    "        \n",
    "        'c_DT': f'## BLANK ## ' +                                                      # Diffusion\n",
    "                f'+ ## BLANK ## + ' +                                                  # Reactions\n",
    "                f'mask * (-c_DT * ({k_D} + {k_dD} * c_d))'}                            # Boundary\n",
    "\n",
    "# Set the initial values for all fields:\n",
    "# To keep deviations from the total mass minimal, we randomize only two fields.\n",
    "c_d = pde.ScalarField.random_uniform(grid) * 0.0\n",
    "c_de = pde.ScalarField.random_uniform(grid) * 0.0\n",
    "c_E = pde.ScalarField.random_uniform(grid) * 1.0 - 0.5\n",
    "c_DD = pde.ScalarField.random_uniform(grid) * 1.0 - 0.5\n",
    "c_DT = pde.ScalarField.random_uniform(grid) * 0.0\n",
    "\n",
    "# Introduce an initial asymmetry to speed up the simulations:\n",
    "## To ensure mass conservation later on, we need to introduce an auxilary variable.\n",
    "nodeCount = grid.shape[0] * grid.shape[1]\n",
    "\n",
    "## Now we place some MinD on the left side of the membrane\n",
    "c_d.data[:8,:] = 5\n",
    "c_d.data = c_d.data * membrane_mask\n",
    "\n",
    "## To ensure mass conservation, we need to remove the MinD proteins that we just placed\n",
    "## on the membrane from the cytosol, and evenly distribute the remaining MinD in the \n",
    "## MinD-ADP state.\n",
    "c_DD.data[:,:] += (nD - sum(sum(c_d.data))) / nodeCount\n",
    "c_E.data[:,:] += nE / nodeCount\n",
    "\n",
    "\n",
    "# Now solve the system as usual:\n",
    "eq = pde.PDE(expr, consts={'mask': membrane_mask, 'maskX': mask_x, 'maskY': mask_y})\n",
    "\n",
    "field = pde.FieldCollection([c_d, c_de, c_E, c_DD, c_DT])\n",
    "field.plot();\n",
    "\n",
    "storage = pde.MemoryStorage()\n",
    "\n",
    "res = eq.solve(field, t_range=2000, tracker=[storage.tracker(1), \"progress\"])\n",
    "res.plot();"
   ]
  },
  {
   "cell_type": "markdown",
   "id": "7d1a9553",
   "metadata": {},
   "source": [
    "## Part 3: Evaluation"
   ]
  },
  {
   "cell_type": "markdown",
   "id": "b322a81c",
   "metadata": {},
   "source": [
    "### Problem 4: Basic consistency checks\n",
    "To make sure that there are no typos in our code, it is good practice to make consitency checks on the simulation results. These consist of calculating/plotting quantities from the data that we can also compute analytically: if the results don't match the expectations, then something went wrong.\n",
    "\n",
    "A simple consistency check for mass-conserving systems is the conservation of mass. Plot the _total_ MinD mass and MinE mass over time, and check whether the mass is conserved. Explain observed deviations from mass conservation.\n",
    "\n",
    "_Hint: the total mass is computed by adding the concentrations of all corresponding fields and summing over all vertices._\n",
    "\n",
    "_Hint: note that the concentration of MinDE complexes contributes to the MinD mass as well as to the MinE mass._"
   ]
  },
  {
   "cell_type": "code",
   "execution_count": null,
   "id": "e96a855f",
   "metadata": {},
   "outputs": [],
   "source": [
    "times = np.arange(len(storage.data))\n",
    "\n",
    "# This is a check whether the total mass is conserved. The entries in each sublist should remain constant (within factor 0.001).\n",
    "# The first row is the total MinD mass (c_d + c_de + c_DD + c_DT = nD), the second row is the total MinE mass (c_de + c_E = nE).\n",
    "MinD_mass = np.array([sum([sum(sum(_)) for _ in [storage.data[t][i] for i in  [0,1,3,4]]]) for t in times])\n",
    "MinE_mass = np.array([sum([## BLANK ## for _ in [## BLANK ##]]) for t in times])\n",
    "\n",
    "plt.plot(times, MinD_mass, label=\"MinD\")\n",
    "plt.plot(times, MinE_mass, label=\"MinE\")\n",
    "plt.legend()\n",
    "plt.title(\"Total MinD/MinE masses\")\n",
    "plt.show()\n",
    "\n",
    "plt.plot(times, (MinD_mass - MinD_mass[0])/nD, label=\"MinD\")\n",
    "plt.plot(times, (MinE_mass - MinE_mass[0])/nE, label=\"MinE\")\n",
    "plt.legend()\n",
    "plt.title(\"Relative deviation from\\nthe initial total masses\")\n",
    "plt.show()\n"
   ]
  },
  {
   "cell_type": "markdown",
   "id": "550fd645",
   "metadata": {},
   "source": [
    "### Problem 4: Concentration plot\n",
    "To visualize our results and be able to interpret them, make a plot of the MinD concentration on the membrane (`c_d`) over time.\n",
    "\n",
    "_Hint: choose a specific pixel, and extract the concentration at this pixel over time._"
   ]
  },
  {
   "cell_type": "code",
   "execution_count": null,
   "id": "9eb6fcba",
   "metadata": {
    "scrolled": true
   },
   "outputs": [],
   "source": [
    "times = ## BLANK ##\n",
    "MinD_concentration = ## BLANK ##\n",
    "plt.plot(times, MinD_concentration)\n",
    "plt.show()"
   ]
  },
  {
   "cell_type": "markdown",
   "id": "bbf855ca",
   "metadata": {},
   "source": [
    "### Problem 5: Kymograph\n",
    "A very suitable representation of the simulation data is a kymograph. In a kymograph, one axis represents time, and the other axis represents a 1D slice through the system. Thus, the kymograph shows a concentration along this slice over time.\n",
    "\n",
    "Make a kymograph of the MinD-ADP concentration along the horizontal center axis of the system.\n",
    "\n",
    "_Hint: due to the specific choice of initial conditions, the first few time steps distort the color range. Consider excluding the first 5 time steps in the kymograph for better visibility._"
   ]
  },
  {
   "cell_type": "code",
   "execution_count": null,
   "id": "2aa378f3",
   "metadata": {},
   "outputs": [],
   "source": [
    "kymo = []\n",
    "for i in range(len(storage.data)):\n",
    "    kymo.append(## BLANK ##)\n",
    "kymo = np.array(kymo)\n",
    "\n",
    "\n",
    "\n",
    "plt.imshow(kymo.T, aspect=20);\n",
    "plt.title(\"MinD-ADP concentration\")\n",
    "plt.xlabel(\"time (s)\")\n",
    "plt.ylabel(\"x $(\\mu m)$\")\n",
    "plt.show();"
   ]
  },
  {
   "cell_type": "markdown",
   "id": "dc750a14",
   "metadata": {},
   "source": [
    "Make kymographs for the MinD-ATP concentration, the MinE concentration, as well as the two membrane concentrations.\n",
    "\n",
    "_Hint: the membrane concentrations should be evaluated on the membrane, not at a central slize._"
   ]
  },
  {
   "cell_type": "code",
   "execution_count": null,
   "id": "b17611f0",
   "metadata": {},
   "outputs": [],
   "source": [
    "def full_kymograph(data, aspect_ratio_rescaling = 1):\n",
    "\n",
    "    lst = [(\"MinD-ADP\", 3, 2), (\"MinD-ATP\", 4, 2), (\"MinE\", 2, 2), (\"MinD membrane\", 0, 0), (\"MinDE membrane\", 1, 0)]\n",
    "\n",
    "    for lbl, index, pos in lst:\n",
    "        kymo = []\n",
    "        for i in range(len(data)):\n",
    "            ## BLANK ##\n",
    "        kymo = np.array(kymo)\n",
    "\n",
    "\n",
    "\n",
    "        plt.imshow(kymo.T, aspect=20/aspect_ratio_rescaling);\n",
    "        plt.title(lbl + \" concentration\")\n",
    "        plt.xlabel(\"time (s)\")\n",
    "        plt.ylabel(\"x $(\\mu m)$\")\n",
    "        plt.show();\n",
    "\n",
    "full_kymograph(storage.data)"
   ]
  },
  {
   "cell_type": "markdown",
   "id": "ac6b2582",
   "metadata": {},
   "source": [
    "### Problem 6: Length variations\n",
    "As you can see in the video of _E. coli_ cells linked above, different oscillation \"modes\" can be observed for different cell aspect ratios: for short cells, the desired pole-to-pole oscillations are obtained, but for long cells, multiple oscillations are present simultaneously. In the following, we will reproduce these observations.\n",
    "\n",
    "Discuss your observations."
   ]
  },
  {
   "cell_type": "code",
   "execution_count": null,
   "id": "8e04717a",
   "metadata": {},
   "outputs": [],
   "source": [
    "def simulate_with_different_length(rescale_factor):\n",
    "\n",
    "    width = 25 * rescale_factor\n",
    "    height = 5\n",
    "    resolution = 1\n",
    "\n",
    "    \n",
    "    grid = pde.CartesianGrid(\n",
    "        [[0, width], [0, height]],\n",
    "        [int(resolution*i) for i in [width, height]]\n",
    "    )\n",
    "    grid.plot();\n",
    "\n",
    "\n",
    "    membrane_mask = pde.ScalarField(grid, dtype=float)\n",
    "    membrane_mask.data[:, 0] = 1.0\n",
    "    membrane_mask.data[:, -1] = 1.0\n",
    "    membrane_mask.data[0,:] = 1.0\n",
    "    membrane_mask.data[-1,:] = 1.0\n",
    "\n",
    "    mask_x, mask_y = [pde.ScalarField(grid, dtype=float) for _ in range(2)]\n",
    "    mask_x.data[:,0] = 1.0\n",
    "    mask_x.data[:,-1] = 1.0\n",
    "    mask_y.data[0,:] = 1.0\n",
    "    mask_y.data[-1,:] = 1.0\n",
    "\n",
    "    # Parameters\n",
    "    D_cytD = 16\n",
    "    D_cytE = 10\n",
    "    D_mem = 0.01\n",
    "\n",
    "    k_nucEx = 6\n",
    "\n",
    "    k_D = 0.1\n",
    "    k_dD = 0.1\n",
    "    k_dE = 0.4\n",
    "    k_de = 0.4\n",
    "\n",
    "    nD = 2000 * rescale_factor\n",
    "    nE = 700 * rescale_factor\n",
    "\n",
    "    expr = {'c_d' : f'(laplace_x(c_d ) * maskX + laplace_y(c_d ) * maskY) * {D_mem} + ' +  # Diffusion\n",
    "                    f'mask * (c_DT * ({k_D} + {k_dD} * c_d) - {k_dE} * c_E * c_d)',        # Reaction\n",
    "            'c_de': f'(laplace_x(c_de) * maskX + laplace_y(c_de) * maskY) * {D_mem} + ' +  # Diffusion\n",
    "                    f'mask * ({k_dE} * c_E * c_d - {k_de} * c_de)',                        # Reaction\n",
    "\n",
    "            'c_E': f'laplace(c_E) * {D_cytE} + ' +                                         # Diffusion\n",
    "                   f'mask * ({k_de} * c_de - {k_dE} * c_E * c_d)',                         # Boundary\n",
    "            'c_DD': f'laplace(c_DD) * {D_cytD} - {k_nucEx} * c_DD + ' +                    # Diffusion\n",
    "                    f'mask * ({k_de} * c_de)',                                             # Boundary\n",
    "            'c_DT': f'laplace(c_DT) * {D_cytD} + {k_nucEx} * c_DD + ' +                    # Diffusion\n",
    "                    f'mask * (-c_DT * ({k_D} + {k_dD} * c_d))'}                            # Boundary\n",
    "\n",
    "    c_d = pde.ScalarField.random_uniform(grid) * 0.0\n",
    "    c_de = pde.ScalarField.random_uniform(grid) * 0.0\n",
    "    c_E = pde.ScalarField.random_uniform(grid) * 1.0 - 0.5\n",
    "    c_DD = pde.ScalarField.random_uniform(grid) * 1.0 - 0.5\n",
    "    c_DT = pde.ScalarField.random_uniform(grid) * 0.0\n",
    "\n",
    "    nodeCount = grid.shape[0] * grid.shape[1]\n",
    "    c_d.data[:8,:] = 5\n",
    "    c_d.data = c_d.data * membrane_mask\n",
    "    c_DD.data[:,:] += (nD - sum(sum(c_d.data))) / nodeCount\n",
    "    c_E.data[:,:] += nE / nodeCount\n",
    "\n",
    "    eq = pde.PDE(expr, consts={'mask': membrane_mask, 'maskX': mask_x, 'maskY': mask_y})\n",
    "    field = pde.FieldCollection([c_d, c_de, c_E, c_DD, c_DT])\n",
    "\n",
    "    storage = pde.MemoryStorage()\n",
    "\n",
    "    res = eq.solve(field, t_range=2000, tracker=[storage.tracker(1), \"progress\"])\n",
    "    res.plot();\n",
    "    return storage"
   ]
  },
  {
   "cell_type": "code",
   "execution_count": null,
   "id": "7dff9559",
   "metadata": {},
   "outputs": [],
   "source": [
    "s3 = simulate_with_different_length(3.)\n",
    "s6 = simulate_with_different_length(6.)"
   ]
  },
  {
   "cell_type": "code",
   "execution_count": null,
   "id": "a1858e60",
   "metadata": {},
   "outputs": [],
   "source": [
    "for s, i in [(s3, 3), (s6, 6)]:\n",
    "    print(f\"{i}-fold length\")\n",
    "    full_kymograph(s.data, aspect_ratio_rescaling=i)"
   ]
  },
  {
   "cell_type": "code",
   "execution_count": null,
   "id": "49d78304",
   "metadata": {},
   "outputs": [],
   "source": []
  }
 ],
 "metadata": {
  "kernelspec": {
   "display_name": "Python 3",
   "language": "python",
   "name": "python3"
  },
  "language_info": {
   "codemirror_mode": {
    "name": "ipython",
    "version": 3
   },
   "file_extension": ".py",
   "mimetype": "text/x-python",
   "name": "python",
   "nbconvert_exporter": "python",
   "pygments_lexer": "ipython3",
   "version": "3.8.12"
  },
  "toc": {
   "base_numbering": 1,
   "nav_menu": {},
   "number_sections": true,
   "sideBar": true,
   "skip_h1_title": false,
   "title_cell": "Table of Contents",
   "title_sidebar": "Contents",
   "toc_cell": false,
   "toc_position": {},
   "toc_section_display": true,
   "toc_window_display": false
  }
 },
 "nbformat": 4,
 "nbformat_minor": 5
}
