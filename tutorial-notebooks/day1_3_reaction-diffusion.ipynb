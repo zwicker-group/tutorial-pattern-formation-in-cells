{
 "cells": [
  {
   "cell_type": "code",
   "execution_count": null,
   "id": "0e838efd",
   "metadata": {},
   "outputs": [],
   "source": [
    "# This notebook requires py-pde in version 0.17.1 or later\n",
    "# The package can be obtained from https://github.com/zwicker-group/py-pde\n",
    "# Alternatively, it can be installed via pip or conda\n",
    "\n",
    "import pde\n",
    "\n",
    "# functools and make_derivative2 are required for anisotropic laplacians\n",
    "import functools\n",
    "from pde.grids.operators.common import make_derivative2\n",
    "\n",
    "# plotting functions\n",
    "import matplotlib.pyplot as plt\n",
    "import numpy as np\n",
    "\n",
    "# fitting methods\n",
    "import scipy\n",
    "\n",
    "# a simple tracker to check parameter sweeps\n",
    "import datetime\n",
    "def ETA(step, maxStep, startTime):\n",
    "    _ETA = None\n",
    "    total_dt = 0\n",
    "    dt = 0\n",
    "    if step==0:\n",
    "        _ETA = \"Indeterminate\"\n",
    "    else:\n",
    "        dt = datetime.datetime.now() - startTime\n",
    "        dt = dt.seconds\n",
    "        total_dt = dt/step * maxStep\n",
    "        _ETA = (startTime + datetime.timedelta(seconds = total_dt))\n",
    "        _ETA = str(_ETA.time())\n",
    "        \n",
    "    print(f\"{int(100 * step / maxStep):>3} % completed. ETA: {_ETA} ({int(total_dt - dt)} seconds remain).\" + '\\t' * 5,\n",
    "          end='\\r')"
   ]
  },
  {
   "cell_type": "markdown",
   "id": "963cef99",
   "metadata": {},
   "source": [
    "# Reaction-Diffusion processes\n",
    "Generic design features shared by the diverse biochemical interaction networks underlying protein pattern formation in cells include:\n",
    " - The dynamics (approximately) conserves the mass of each individual protein species: on the time scale of pattern formation neither protein production nor protein degradation are significant processes.\n",
    " - The biochemical reactions are characterised by (positive and negative) feedback mechanisms such that the chemical rate equations describing the dynamics of these reactions are generically nonlinear.\n",
    " - The proteins are typically transported by diffusive fluxes.\n",
    " \n",
    "Then, the spatiotemporal dynamics of protein patterns is described by _mass-conserving reaction-diffusion_ (MCRD) equations.\n",
    "\n",
    "The aspect of mass conservation is a constraint imposed by nature: in general, proteins do not appear out of nowhere, nor do they disappear into the void. For biological systems, the mass conservation plays a crucial role that will bother us later in the tutorial; for now, we will focus only on generic properties of pattern-forming reaction-diffusion systems. In the following, you will learn how to set up generic pattern-forming systems with a PDE solver, what individual parts of the differential equations mean, and how to interpret the results."
   ]
  },
  {
   "cell_type": "markdown",
   "id": "588efa89",
   "metadata": {},
   "source": [
    "## The Fitzhugh-Nagumo model\n",
    "We will analyse and implement a very generic system that shows stationary patterns here, namely the Fitzhugh-Nagumo model. This model was originally proposed as a simplified description of neuron spiking. The model features two components, $u(x,y,t)$ and $v(x,y,t)$, that interact nonlinearly with each other. The general formulation reads:\n",
    "$$\n",
    "\\partial_t u(x,y,t) = D_u \\, \\nabla^2 u + f(u) - \\sigma \\cdot v \\, , \\\\\n",
    "\\partial_t v(x,y,t) = D_v \\, \\nabla^2 v + u - v \\, ,\n",
    "$$\n",
    "with $f(u)$ containing all the nonlinear interactions (see below).\n",
    "For simplicity, the spatial/temporal variables $x$, $y$, and $t$ where omitted on the r.h.s. of the equations.\n",
    "Note that these equations are a simplified version of the variants typically found in the literature, in particular regarding additional prefactors.\n",
    "\n",
    "The nonlinear interaction term is the key component that leads to the formation of patterns in this model. Here, we will use\n",
    "$$f(u) = - u^3 + \\alpha \\cdot u - \\kappa \\, .$$\n",
    "In this representation, all parameters ($D_u$, $D_v$, $\\alpha$, $\\kappa$, and $\\sigma$) are positive."
   ]
  },
  {
   "cell_type": "markdown",
   "id": "2a26884b",
   "metadata": {},
   "source": [
    "## Part 1: Analysing the problem analytically"
   ]
  },
  {
   "cell_type": "markdown",
   "id": "bce04c04",
   "metadata": {},
   "source": [
    "### Problem 1: Understanding the differential equations\n",
    "For each of the terms on the r.h.s. of the PDEs, state their effect on the dynamics of the system.\n",
    "For each of the parameters, state how varying this parameter will qualitatively change the dynamics of the system.\n",
    "\n",
    "_Hint: You should remain on a very broad level here, using phrases such as 'smoothens out rough profiles', 'leads to an increase/decrease of $v$ (or $u$)', etc._\n",
    "\n",
    "_Hint: For examining the parameters, it helps to consider a specific state of the system. For example, if $u>0$ then the term $\\alpha \\cdot u$ will lead to further increase of $u$, but it will lead to a decrease if $u<0$._"
   ]
  },
  {
   "cell_type": "markdown",
   "id": "bb125f56",
   "metadata": {},
   "source": [
    "### Bonus Problem (Optional): Linear stability analysis and dispersion relation\n",
    "The following problem requires some background in theoretical physics or mathematics. If you are comfortable with the terms used in the problem, or have time to spare after completing all other problems, you can try this bonus problem. It will teach you how the values for the constants used in the code were derived (since, of course, you can't just guess any values). You can even solve the problem without the suggested simplifications to obtain more general results.\n",
    "\n",
    "Perform a linear stability analysis of the FitzHugh-Nagumo model for the case $\\kappa = 0$ and $\\sigma = 1$ (ignoring the diffusive component, i.e., assuming $D_u = D_v = 0$). What is the condition for the system to be linearly (un)stable?\n",
    "\n",
    "_Hint: You will need to calculate the fixed points first. Then, determine whether the fixed point at $u^* = v^* = 0$ is stable or unstable._\n",
    "\n",
    "Now calculate the dispersion relation, with the additional simplification that $\\alpha = 1$. What are the conditions for the diffusion constants $D_u$ and $D_v$ to obtain a band of unstable modes?\n",
    "\n",
    "_Hint: Use the following ansatz for calculating the dispersion relation to lowest order in $\\delta u$ around the fixed point $u^* = v^* = 0$: $u(x,t) = \\delta u \\cdot \\exp(\\eta t) \\sin(k \\, x)$, and similar for $v$ It also helps to express one diffusion constant as a fraction of the other, e.g., $D_u = z \\cdot D_v$._\n"
   ]
  },
  {
   "cell_type": "markdown",
   "id": "aedd79d1",
   "metadata": {},
   "source": [
    "## Part 2: Testing the system numerically\n",
    "Different to the source-degradation, we don't know yet what to expect from the system. In particular, the size of the system and the grid resolution need to be determined without knowing the system dynamics. "
   ]
  },
  {
   "cell_type": "markdown",
   "id": "c919232b",
   "metadata": {},
   "source": [
    "### Problem 2: Determining the numerical constraints\n",
    "Use arbitrarily chosen values for the diffusion constants (e.g., $D_u = 0.1 \\; [\\mu m^2/s]$ and $D_v = 1.0 \\; [\\mu m^2/s]$) and the reaction coefficients ($\\alpha = 1 \\; [1/s]$, $\\kappa = 0.1 \\; [1/ (s \\cdot \\mu m ^2)]$, and $\\sigma = 1 \\; [1/s]$) to make an educated guess about the system size and spatial resolution."
   ]
  },
  {
   "cell_type": "code",
   "execution_count": null,
   "id": "c32acd79",
   "metadata": {},
   "outputs": [],
   "source": [
    "# Define the geometry of the system.\n",
    "# This time, we use a square grid of width L. The mesh size can be adapted by changing `resolution`.\n",
    "# Setting `resolution = 10`, for example, means that grid cells are 1/resolution = 0.1 (length units) in size.\n",
    "\n",
    "L =  ## BLANK ##\n",
    "resolution =  ## BLANK ##\n",
    "\n",
    "# pde.CartesianGrid() creates a grid object.\n",
    "# To avoid boundary effects, we use periodic boundary conditions here.\n",
    "\n",
    "grid = pde.CartesianGrid(\n",
    "    [[0, L], [0, L]],\n",
    "    [int(resolution*L), int(resolution*L)],\n",
    "    periodic = True\n",
    ")\n",
    "grid.plot();"
   ]
  },
  {
   "cell_type": "code",
   "execution_count": null,
   "id": "a283b4d6",
   "metadata": {},
   "outputs": [],
   "source": [
    "# Since we do not have any membrane dynamics, we do not need a special diffusion operator this time."
   ]
  },
  {
   "cell_type": "markdown",
   "id": "901e667d",
   "metadata": {},
   "source": [
    "### Problem 3: Setting up the equations\n",
    "According to your choice of the system size and resolution, it is now time to define the system parameters. Translate the equations of the Fitzhugh-Nagumo model into the required syntax of `py-pde`. As a reminder, the expression for $v$ is already given."
   ]
  },
  {
   "cell_type": "code",
   "execution_count": null,
   "id": "64ba193a",
   "metadata": {},
   "outputs": [],
   "source": [
    "D_u = 0.1\n",
    "D_v = 1.0\n",
    "\n",
    "alpha = 1.0\n",
    "kappa = 0.1\n",
    "sigma = 1.0\n",
    "\n",
    "expr = {'u' : ## BLANK ##, \n",
    "        'v' : f'laplace(v) * {D_v} + u - v'}\n"
   ]
  },
  {
   "cell_type": "markdown",
   "id": "a34ab012",
   "metadata": {},
   "source": [
    "Now you are almost ready to execute the simulation: only the initial conditions are still missing. In general, for pattern-forming systems, it is a good start to use an unstable fixed point with a sufficiently strong perturbation as initial states. In the Fitzhugh-Nagumo model, for $\\kappa = 0$, one fixed point is at $u^* = v^* = 0$, and this fixed point is unstable _in a spatially extended system_ (in a 0D system, this need not be the case). Since we have a comparably small $\\kappa$, the actual fixed point will be close to this, so for simplicity, we perturb the system around $(u, v) = (0,0)$.\n",
    "\n",
    "`random_uniform(grid)` returns an array with values randomly chosen between 0 and 1. The code below transforms this to random values between -1 and 1, centered around the fixed point."
   ]
  },
  {
   "cell_type": "code",
   "execution_count": null,
   "id": "26a97961",
   "metadata": {},
   "outputs": [],
   "source": [
    "# Construct the field objects\n",
    "u = pde.ScalarField.random_uniform(grid) * 2. - 1.\n",
    "v = pde.ScalarField.random_uniform(grid) * 2. - 1.\n",
    "\n",
    "\n",
    "# Create the PDE object\n",
    "eq = pde.PDE(expr)\n",
    "\n",
    "# Set the initial values for all fields, and show it\n",
    "field = pde.FieldCollection([u,v])\n",
    "field.plot();\n",
    "\n",
    "# Simulate the system and show the result\n",
    "storage = pde.MemoryStorage()\n",
    "\n",
    "res = eq.solve(field, t_range=200, tracker=[storage.tracker(1), \"progress\"])\n",
    "res.plot();"
   ]
  },
  {
   "cell_type": "markdown",
   "id": "5f317639",
   "metadata": {},
   "source": [
    "## Part 3: Evaluation\n",
    "### Problem 4: Interpreting the results\n",
    "Look at the final state of the simulation. Do you observe a pattern? Do your results match the expactations? What is the order of magnitude of the pattern's characteristic length scale? Run the simulation again with different values for $\\kappa$ and note down your observations."
   ]
  },
  {
   "cell_type": "markdown",
   "id": "50560ec6",
   "metadata": {},
   "source": [
    "### Problem 5: Quantifying the results\n",
    "We now want to quantify the characteristic length scale. To do so, we will try to find the center of each spot in the pattern, and calculate the distances to the other spots. This analysis is done by the code below, which shows you a histogram of the spot distances, and returns a proxy for the mean distance between neighboring spots.\n",
    "\n",
    "The function `get_length_scale` does not contain any blanks, however you are encouraged to walk through it and to understand the underlying idea. This will help you to properly interpret the results later on."
   ]
  },
  {
   "cell_type": "code",
   "execution_count": null,
   "id": "03f60ed4",
   "metadata": {},
   "outputs": [],
   "source": [
    "def get_length_scale(data: np.array, show_stats: bool = True, show_centers: bool = False):\n",
    "    # Make an empty array of the same size as the data array.\n",
    "    # This is not necessary, but it helps to visualize things if needed, and is useful for debugging\n",
    "    pattern_maxima = np.zeros_like(data)\n",
    "    \n",
    "    # Make a list to store all pattern spot maxima\n",
    "    maxima_coordinates = []\n",
    "    \n",
    "    # Define some auxiliary quantities\n",
    "    lx, ly = data.shape\n",
    "    delta = 2 # size of the scanning window to find the maxima\n",
    "    offsets = [(dx, dy) for dx in range(-delta, delta+1) for dy in range(-delta, delta+1)]\n",
    "    offsets.remove((0,0)) # coordinate offsets that should be checked\n",
    "    \n",
    "    # Scan the entire array and check whether a pixel has the highes value of all neighbours\n",
    "    for iy, ix in np.ndindex(data.shape):\n",
    "        nbs = [data[(ix+dx)%lx, (iy+dy)%ly] for dx,dy in offsets]\n",
    "        if data[ix,iy] > max(nbs):\n",
    "            pattern_maxima[ix,iy] += 1.\n",
    "            maxima_coordinates.append(np.array((ix,iy)))\n",
    "            pattern_maxima[ix, iy] = 1.\n",
    "            \n",
    "    # Show the spot centers\n",
    "    if show_centers:\n",
    "        plt.imshow(data)\n",
    "        plt.show();\n",
    "\n",
    "        plt.imshow(pattern_maxima)\n",
    "        plt.show();\n",
    "            \n",
    "    # Average area 'occupied' by a spot pattern: (total area)/(nr of spots)\n",
    "    # Average distance between spots: sqrt((total area)/(nr of spots)):\n",
    "    neighbour_distances = np.sqrt(L*L/len(maxima_coordinates))\n",
    "    if show_stats:\n",
    "        print(f\"Nr. of spots: {len(maxima_coordinates)}\")\n",
    "        print(f\"Occupied area per spot: {L*L/len(maxima_coordinates)}\")\n",
    "        print(f\"Estimated average distance between spots: {neighbour_distances}\")\n",
    "    \n",
    "    \n",
    "    return np.mean(neighbour_distances)"
   ]
  },
  {
   "cell_type": "code",
   "execution_count": null,
   "id": "cebe8f7f",
   "metadata": {},
   "outputs": [],
   "source": [
    "get_length_scale(storage.data[-1][0], show_centers = True)"
   ]
  },
  {
   "cell_type": "markdown",
   "id": "ab15a32e",
   "metadata": {},
   "source": [
    "### Problem 6: Sweeping\n",
    "Again, we want to check what happens when we change one of the parameters. Here, we want to vary the diffusion constants. Sweep over an appropriate parameter regime and describe how the characteristic pattern length scale $\\ell$ changes.\n",
    "\n",
    "What (approximate) functional dependence of the length scale on the diffusion constant can you derive from your sweep? Is it meaningful to extrapolate your data? Where do you expect your results to fail?"
   ]
  },
  {
   "cell_type": "code",
   "execution_count": null,
   "id": "42364f98",
   "metadata": {},
   "outputs": [],
   "source": [
    "# Define a function that yields the characteristic length scale for a given parameter set\n",
    "def simulate_and_get_length_scale(D_u = 0.1, D_v = 1.0, alpha = 1.0, kappa = 0.1, sigma = 1.0, tracker = \"progress\"):\n",
    "    expr = {'u' : f'laplace(u) * {D_u} + {alpha} * u - u * u * u - {kappa} - {sigma} * v', \n",
    "            'v' : f'laplace(v) * {D_v} + u - v'}  \n",
    "    \n",
    "    # Construct the field objects\n",
    "    u = pde.ScalarField.random_uniform(grid) * 2. - 1.\n",
    "    v = pde.ScalarField.random_uniform(grid) * 2. - 1.\n",
    "\n",
    "    eq = pde.PDE(expr)\n",
    "    field = pde.FieldCollection([u,v])\n",
    "\n",
    "    res = eq.solve(field, t_range=200, tracker=tracker)\n",
    "    \n",
    "    return get_length_scale(res.data[0], show_stats = False)    "
   ]
  },
  {
   "cell_type": "code",
   "execution_count": null,
   "id": "d83dc576",
   "metadata": {},
   "outputs": [],
   "source": [
    "# Make a parameter sweep\n",
    "# Empty list to store the results in\n",
    "sweep_results = []\n",
    "\n",
    "# Parameters to sweep over\n",
    "sweep_parameters = np.power(10, np.arange(-.5, .5, ## BLANK ##))\n",
    "\n",
    "# Nr of iterations per parameter to get a statistical average\n",
    "sample_size = ## BLANK ##\n",
    "\n",
    "# Launch the sweep\n",
    "start_time = datetime.datetime.now()\n",
    "for _ in sweep_parameters:\n",
    "    tmp = []\n",
    "    for __ in range(sample_size):\n",
    "        ETA(list(sweep_parameters).index(_) * sample_size + __, len(sweep_parameters) * sample_size, start_time)\n",
    "        tmp.append(simulate_and_get_length_scale(D_u = 0.1 * _, D_v = 1.0 * _, tracker = []))\n",
    "    length_scale = np.mean(tmp)\n",
    "    sweep_results.append(length_scale)\n",
    "\n",
    "# Convert the results to a numpy array for better handling afterwards\n",
    "sweep_results = np.array(sweep_results)\n",
    "\n",
    "# Plot the data\n",
    "plt.plot(## BLANK ##, ## BLANK ##, 'o', label='data')\n",
    "plt.title('Characteristic length scale vs. diffusion constant')\n",
    "plt.xlabel('$D/D_0$')\n",
    "plt.ylabel('Characteristic length $\\ell$')\n",
    "plt.legend(loc=\"upper left\")\n",
    "plt.show()"
   ]
  },
  {
   "cell_type": "code",
   "execution_count": null,
   "id": "2390fe26",
   "metadata": {},
   "outputs": [],
   "source": [
    "# Guessed function for the length scale depending on the sweep parameter\n",
    "def fit_func(x, a, b):\n",
    "    return ## BLANK ##\n",
    "\n",
    "# Fit parameters and covariance for the fit data\n",
    "popt, pcov = scipy.optimize.curve_fit(fit_func, sweep_parameters, sweep_results)\n",
    "\n",
    "# Visualization\n",
    "\n",
    "plt.plot(sweep_parameters, sweep_results, 'o', label='data')\n",
    "plt.plot(sweep_parameters, fit_func(sweep_parameters, *popt), 'g--',\n",
    "         label='fit')\n",
    "plt.title('Fit $\\ell(D) = a + \\sqrt{b \\cdot D/D_0}$\\nwith $D_0$ some reference diffusion constant:\\n'+\n",
    "         f'$a\\;=${popt[0]: .3},\\t$b\\;=${popt[1]: .4}')\n",
    "plt.xlabel('$D/D_0$')\n",
    "plt.ylabel('Characteristic length $\\ell$')\n",
    "plt.legend(loc=\"upper left\")\n",
    "plt.show()"
   ]
  },
  {
   "cell_type": "markdown",
   "id": "265076d2",
   "metadata": {},
   "source": [
    "### Problem 7: (Non-)Linearities\n",
    "The PDEs of the Fitzhugh-Nagumo model include a nonlinear term, namely $-u^3$. This nonlinearity is essential for the formation of patterns here. Test this explicitly by implementing a variant of the Fitzhugh-Nagumo model where the nonlinear term is replaced by $-u^3 \\rightarrow -u^n$, with $n$ an integer exponent. In particular, test the cases $n \\in \\{1, 3, 5\\}$, and describe your results. Give an explanation why you observe patterns in some cases, and why not in others."
   ]
  },
  {
   "cell_type": "code",
   "execution_count": null,
   "id": "3d167013",
   "metadata": {
    "scrolled": false
   },
   "outputs": [],
   "source": [
    "for n in [1, 3, 5]:\n",
    "\n",
    "    D_u = 0.1 \n",
    "    D_v = 1.0 \n",
    "\n",
    "    alpha = 1.0\n",
    "    kappa = 0.1\n",
    "    sigma = 1.0 \n",
    "\n",
    "    expr = {'u' : ## BLANK ##,\n",
    "            'v' : ## BLANK ##}\n",
    "\n",
    "\n",
    "    # Construct the field objects\n",
    "    u = pde.ScalarField.random_uniform(grid) * 2. - 1.\n",
    "    v = pde.ScalarField.random_uniform(grid) * 2. - 1.\n",
    "\n",
    "\n",
    "    # Create the PDE object\n",
    "    eq = pde.PDE(expr)\n",
    "\n",
    "    # Set the initial values for all fields, and show it\n",
    "    field = pde.FieldCollection([u,v])\n",
    "\n",
    "    res = eq.solve(field, t_range=200, tracker=[])\n",
    "    res.plot(title=f\"n = {n}\");"
   ]
  },
  {
   "cell_type": "markdown",
   "id": "75df1baa",
   "metadata": {},
   "source": [
    "## Part 4: A variation of the system (Optional)\n",
    "### Problem 8: Dynamic patterns\n",
    "The pattern you analysed above is a stationary pattern, i.e. it will remain the same if you continue simulating for much longer times. For a different parameter regime, the Fitzhugh-Nagumo model shows dynamic patterns that reflect the 'neuron spiking' idea of the model. While these dynamic patterns are particularly difficult to analyse, they are at the same time very nice to look at. The code below simulates such a dynamic pattern. Run and enjoy!"
   ]
  },
  {
   "cell_type": "code",
   "execution_count": null,
   "id": "faf5b8a7",
   "metadata": {},
   "outputs": [],
   "source": [
    "D_u = 0.01\n",
    "D_v = 0.01\n",
    "\n",
    "alpha = 2.0\n",
    "kappa = 0.0\n",
    "sigma = 2.0\n",
    "\n",
    "expr = {'u' : f'laplace(u) * {D_u} + {alpha} * u - u * u * u - {kappa} - {sigma} * v',\n",
    "        'v' : f'laplace(v) * {D_v} + u - v'}\n",
    "\n",
    "# Construct the field objects\n",
    "u = pde.ScalarField.random_uniform(grid) * 2. - 1.\n",
    "v = pde.ScalarField.random_uniform(grid) * 2. - 1.\n",
    "\n",
    "\n",
    "# Create the PDE object\n",
    "eq = pde.PDE(expr)\n",
    "\n",
    "# Set the initial values for all fields, and show it\n",
    "field = pde.FieldCollection([u,v])\n",
    "field.plot();\n",
    "\n",
    "# Simulate the system for 100 time steps, and show the result\n",
    "storage = pde.MemoryStorage()\n",
    "\n",
    "res = eq.solve(field, t_range=100, dt = 0.01, tracker=[storage.tracker(0.2), \"progress\"])\n",
    "res.plot();\n"
   ]
  },
  {
   "cell_type": "code",
   "execution_count": null,
   "id": "3a1d26a5",
   "metadata": {},
   "outputs": [],
   "source": [
    "# make a movie of the dynamic pattern\n",
    "pde.movie(storage, 'dynamic_pattern.mp4', progress=True)"
   ]
  }
 ],
 "metadata": {
  "kernelspec": {
   "display_name": "Python 3 (ipykernel)",
   "language": "python",
   "name": "python3"
  },
  "language_info": {
   "codemirror_mode": {
    "name": "ipython",
    "version": 3
   },
   "file_extension": ".py",
   "mimetype": "text/x-python",
   "name": "python",
   "nbconvert_exporter": "python",
   "pygments_lexer": "ipython3",
   "version": "3.9.9"
  }
 },
 "nbformat": 4,
 "nbformat_minor": 5
}
