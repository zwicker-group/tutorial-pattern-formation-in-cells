{
 "cells": [
  {
   "cell_type": "code",
   "execution_count": null,
   "id": "5800110e-994a-4668-9b90-a8c44e278ec1",
   "metadata": {},
   "outputs": [],
   "source": [
    "# This notebook requires py-pde in version 0.17.1 or later\n",
    "# The package can be obtained from https://github.com/zwicker-group/py-pde\n",
    "# Alternatively, it can be installed via pip or conda\n",
    "\n",
    "import pde\n",
    "\n",
    "# functools and make_derivative2 are required for anisotropic laplacians\n",
    "import functools\n",
    "from pde.grids.operators.common import make_derivative2\n",
    "\n",
    "# plotting functions\n",
    "import matplotlib.pyplot as plt\n",
    "import numpy as np\n",
    "\n",
    "# fitting methods\n",
    "import scipy\n",
    "\n",
    "# a simple tracker to check parameter sweeps\n",
    "import datetime\n",
    "def ETA(step, maxStep, startTime):\n",
    "    _ETA = None\n",
    "    total_dt = 0\n",
    "    dt = 0\n",
    "    if step==0:\n",
    "        _ETA = \"Indeterminate\"\n",
    "    else:\n",
    "        dt = datetime.datetime.now() - startTime\n",
    "        dt = dt.seconds\n",
    "        total_dt = dt/step * maxStep\n",
    "        _ETA = (startTime + datetime.timedelta(seconds = total_dt))\n",
    "        _ETA = str(_ETA.time())\n",
    "        \n",
    "    print(f\"{int(100 * step / maxStep):>3} % completed. ETA: {_ETA} ({int(total_dt - dt)} seconds remain).\" + '\\t' * 5,\n",
    "          end='\\r')"
   ]
  },
  {
   "cell_type": "markdown",
   "id": "62f71aa4-682e-48ba-803c-52f02edff5ec",
   "metadata": {},
   "source": [
    "# A simple source-degradation process\n",
    "In this task, you will explore how chemical gradients in biological systems can emerge from a local source with a global degradation process. Along the lines, you will learn some neat functionalities of the py-pde package.\n",
    "\n",
    "Consider the following situation: a cell's membrane, constantly produces some chemical $c$ at a rate $k_{prod}$. This could be a protein complex that is created on the membrane, or an external chemical that is constantly uptaken by the membrane. This chemical -- whose concentration is denoted by $c_m(x,t)$ -- can move on the membrane diffusively (diffusion constant $D_m$). At a rate $k$, these chemicals detach from the membrane into the cell's volume (cytosol). In the cytosol, this chemical $c_b(x,y,t)$ diffuses as well ($D_c$), and it is degraded at a rate $k_{degr}$, for example due to (de-)phosphorylation. We look at a small (flat) region of the cell's membrane and cytosol in 2D. Here, the cytosol is a 2D plane (parameterized by the coordinates $x$ and $y$), and the membrane is a 1D line located at the boundary of the cytosol, parameterized by the coordinate $x$. More precisely, the membrane is located at height $y=0$. The differential equations corresponding to this situation are\n",
    "\n",
    "$$\n",
    "\\partial_t c_m(x,t) = D_m \\nabla_x^2 c_m(x,t) + k_{prod} - k \\cdot c_m(x,t) \\, ,\\\\\n",
    "\\partial_t c_b(x,y,t) = D_c \\nabla^2 c_b(x,y,t) - k_{degr} \\cdot c_b(x,y,t) \\, .\n",
    "$$\n",
    "\n",
    "Note that the operators representing the diffusion on the membrane ($\\nabla_x$) and in the cytosol ($\\nabla$) are distinct, and require specific numerical treatments.\n",
    "\n",
    "Mathematically, the coupling of the membrane to the cytosol dynamics (i.e., the influx of particles into the cytosol from the membrane) is denoted as a Neumann boundary condition\n",
    "\n",
    "$$ \n",
    "-D_c \\, \\partial_y c_b(x,0,t) = k \\cdot c_m(x,t) \\, .\n",
    "$$\n",
    "\n",
    "In general, such boundary conditions are difficult to implement numerically (there is dedicated software that takes care of them), and are not very intuitive. Here, we use a much simpler and more intuitive approach to couple the membrane and cytosolic dynamics: we add to the cytosolic dynamics a space-dependent reaction rate, which allows the creation ('influx') of chemicals only at a restricted area in the cytosol. Naturally, this restricted area will be very close to the boundary. These modified equations now read\n",
    "\n",
    "$$\n",
    "\\partial_t c_m(x,t) = D_m \\nabla_x^2 c_m(x,t) + k_{prod} - k \\cdot c_m(x,t) \\, ,\\\\\n",
    "\\partial_t c_b(x,y,t) = D_c \\nabla^2 c_b(x,y,t) - k_{degr} \\cdot c_b(x,y,t) + m(y) \\cdot k \\cdot c_m(x,t) \\, ,\n",
    "$$\n",
    "\n",
    "where $m(y)$ represents a mask with $m(0) = 1$ (close to the membrane) and $m(y) = 0$ everywhere else."
   ]
  },
  {
   "cell_type": "markdown",
   "id": "b5e643d9-2fac-4872-8162-a2fa1eebf8b8",
   "metadata": {},
   "source": [
    "## Part 1: Analysing the problem analytically\n",
    "In today's lecture, you learnt about characteristic profiles and length scales of such source degradation processes. Before starting to simulate the problem, let's think about what we expect.\n",
    "\n",
    "### Problem 1\n",
    "Make a sketch of the profile of the cytosolic concentration perpendicular to the membrane, $c_b(0,y,t)$, at the steady state of the system. What function represents this profile? What is the concentration far away from the membrane, $c_b(0, \\infty, t)$?\n",
    "\n",
    "(Optional) Determine the steady state profile analytically. And compare it with your sketch.\n",
    "\n",
    "_Hint: you obtain the steady state by solving $\\partial_t c_b = 0$._"
   ]
  },
  {
   "cell_type": "markdown",
   "id": "1d477631",
   "metadata": {},
   "source": [
    "### Problem 2\n",
    "The length scale $\\ell$ of the cytosolic concentration profile is (in this example) determined by a diffusion constant and a reaction rate. Which?\n",
    "\n",
    "Compare the units of the length scale $\\ell$, the diffusion constant, and the reaction rate, and use your results to obtain an equation for the length scale. "
   ]
  },
  {
   "cell_type": "markdown",
   "id": "0f00e9ba",
   "metadata": {},
   "source": [
    "## Part 2: Testing the system numerically\n",
    "Now that we roughly know what to expect, we can solve this system by numerically solving the underlying PDEs. To this end, we will use the PDE solver provided by the ```py-pde``` solver. To give you a feeling how it works, we provide you with a working example with blanks that you need to fill in. In later exercises, you will learn how to set up the code by yourself. *Please take some time to understand the example.* Blanks that need to be filled in by you will be indicated by ```## BLANK ##```."
   ]
  },
  {
   "cell_type": "markdown",
   "id": "6fb046cc",
   "metadata": {},
   "source": [
    "### Tutorial 1: How does a numerical PDE solver work?\n",
    " - Geometry\n",
    " - Mesh\n",
    " - Equations and Operators\n",
    " - Time stepping\n",
    " - Workarounds\n",
    " - Errors"
   ]
  },
  {
   "cell_type": "markdown",
   "id": "9a4449ba",
   "metadata": {},
   "source": [
    "### Problem 3: Implementing the source-degradation process\n",
    "Fill in the ```## BLANKS ##``` to complete the code and run the simulations."
   ]
  },
  {
   "cell_type": "code",
   "execution_count": null,
   "id": "0931cd86-7cec-424e-967e-f563ecef30ba",
   "metadata": {},
   "outputs": [],
   "source": [
    "# Define the geometry of the system.\n",
    "# We use a regular grid (rectangle) with a specified width (x-direction) and height (y-direction).\n",
    "\n",
    "width =   ## BLANK ##\n",
    "height =  ## BLANK ##\n",
    "resolution = (2**5)/10\n",
    "\n",
    "# pde.CartesianGrid() creates a grid object (mesh) specified by the rectangle corners and a sampling resolution for both axes.\n",
    "grid = pde.CartesianGrid(\n",
    "    [[0, width], [0, height]],\n",
    "    [int(resolution*i) for i in [width, height]]\n",
    ")\n",
    "grid.plot();"
   ]
  },
  {
   "cell_type": "code",
   "execution_count": null,
   "id": "c398d35c-4fa6-4427-b9a9-0cdb343c7a45",
   "metadata": {},
   "outputs": [],
   "source": [
    "# Define a mask on the grid that represents the 1D membrane.\n",
    "# Here, we choose the bottom row (y=0) to be the membrane.\n",
    "# Note: in general, such masks are boolean arrays. For computation purposes, it is often convenient\n",
    "# to store them as float arrays, though, since some operations (e.g. arithmetic '-') are not well-\n",
    "# defined on boolean arrays\n",
    "\n",
    "membrane_mask = pde.ScalarField(grid, dtype=float)\n",
    "membrane_mask.data[:, ## BLANK ##] = 1.0\n",
    "membrane_mask.plot();"
   ]
  },
  {
   "cell_type": "markdown",
   "id": "b43456a3",
   "metadata": {},
   "source": [
    "Any system with two different domains coupled to each other (in this case: cytosol and membrane) comes with certain numerical subtleties, in particular when the domains have different dimensions. One of these subtleties is the diffusion operator (second spatial derivative, laplacian), which looks fundamentally different on flat regions (e.g., a 2D cytosol) vs. curved regions (e.g., a membrane that is not perfectly flat). Here, we have a flat membrane, which saves us a lot of trouble, but nevertheless, we need to make sure that diffusion is restricted exclusively to the membrane for $c_m(x,t)$. To this end, we need to tinker a custom laplacian:"
   ]
  },
  {
   "cell_type": "code",
   "execution_count": null,
   "id": "b7491eed-85ad-4caa-a2b4-b8a4fee39e99",
   "metadata": {},
   "outputs": [],
   "source": [
    "# Set up laplace operator in x direction only\n",
    "# (You do not need to understand the details here)\n",
    "make_laplace_x = functools.partial(make_derivative2, axis=0)\n",
    "pde.CartesianGrid.register_operator('laplace_x', make_laplace_x)\n",
    "\n",
    "# Now we test whether the custom laplacian works as intended:\n",
    "# We set up a random initial field on the membrane, and perform one time step.\n",
    "# If we did everything right, then there will be no diffusion in y-direction,\n",
    "# so that the field values at y>0 will remain 0.\n",
    "\n",
    "# Make a random initial field\n",
    "c_m = pde.ScalarField.random_uniform(grid)\n",
    "# Apply the mask to ensure that the field is non-zero only on the membrane\n",
    "c_m *= membrane_mask\n",
    "# Look at the field\n",
    "c_m.plot();\n",
    "# Perform a time step and look at the field again\n",
    "c_m.apply_operator('laplace_x', bc='auto_periodic_neumann').plot();"
   ]
  },
  {
   "cell_type": "markdown",
   "id": "288a1fdd",
   "metadata": {},
   "source": [
    "Now that the numerical details are settled (geometry, mesh, and operators), we can feed the PDEs into the numerical PDE solver. Of course, we have to set values for all parameters first, since the numerical solver can not perform symbolic operations."
   ]
  },
  {
   "cell_type": "code",
   "execution_count": null,
   "id": "3b0cfd18-6631-4b8e-a95b-335feb71eac8",
   "metadata": {},
   "outputs": [],
   "source": [
    "# Define parameters\n",
    "k_prod = 1. # production in membrane\n",
    "k = 0.1     # detachment rate\n",
    "k_degr = 1. # degradation in the cytosol\n",
    "\n",
    "D_c = 1.    # diffusion in the cytosol\n",
    "D_m = 0.1   # diffusion on the membrane\n",
    "\n",
    "# Define the PDEs: l.h.s. specifies the field for which the equation holds,\n",
    "# r.h.s. equals the time derivative of the field.\n",
    "# In py-pde, the equations are defined as f-strings.\n",
    "# The reactions can be restricted to the membrane by multiplying with the\n",
    "# mask (which will be a field itself and therefore does not need to be escaped).\n",
    "expr = {'c_m': f'{D_m} * laplace_x(c_m) + mask * ({k_prod} - {k} * c_m)',\n",
    "        'c_b': f'{D_c} * laplace(c_b) + {k} * mask * c_m - {k_degr} * c_b'}\n",
    "\n",
    "# Set the initial values for both fields:\n",
    "c_m = pde.ScalarField.random_uniform(grid) * membrane_mask\n",
    "c_b = pde.ScalarField.random_uniform(grid)\n",
    "\n",
    "# Create the PDE object\n",
    "eq = pde.PDE(expr, consts={'mask': membrane_mask})\n",
    "\n",
    "# Set the initial values for all fields, and show it\n",
    "field = pde.FieldCollection([c_m, c_b])\n",
    "field.plot();\n",
    "\n",
    "# Simulate the system for 100 time steps, and show the result\n",
    "res = eq.solve(field, t_range=100, tracker=\"progress\")\n",
    "res.plot();"
   ]
  },
  {
   "cell_type": "markdown",
   "id": "2e3681de",
   "metadata": {},
   "source": [
    "### Problem 4: Evaluation\n",
    "In general, the data you obtain from simulations needs to be post-processed into meaningful quantities. Here, we want to compare the results with the analytical results, i.e., we want to test whether the predicted concentration profile and length scale match the results.\n",
    "\n",
    "Do so by extracting a meaningful dataset from the solution data (which is stored in ```res.data```), and by plotting your result. Then, use ```numpy```'s ```polyfit``` to fit your predicted concentration profile to the data.\n",
    "_Hint: ```numpy.polyfit``` only fits polynomials. I your function contains exponentials, fit a polynomial to the log of your data, and then apply the exponential to the fitted result._"
   ]
  },
  {
   "cell_type": "code",
   "execution_count": null,
   "id": "7214879c",
   "metadata": {},
   "outputs": [],
   "source": [
    "# Get plot data:\n",
    "coords = grid._axes_coords[1]\n",
    "concentration = ## BLANK ##    # concentration at the specified coordinates\n",
    "\n",
    "# Plot:\n",
    "plt.plot(coords, concentration, 'o', label='data')\n",
    "plt.legend()\n",
    "plt.show();"
   ]
  },
  {
   "cell_type": "code",
   "execution_count": null,
   "id": "59853a2a",
   "metadata": {},
   "outputs": [],
   "source": [
    "# Guessed function for the concentration depending on the position\n",
    "def fit_func(x, a, b):\n",
    "    return ## BLANK ##\n",
    "\n",
    "# Fit parameters and covariance for the fit data\n",
    "popt, pcov = scipy.optimize.curve_fit(fit_func, coords, concentration)\n",
    "\n",
    "# Visualization\n",
    "plt.plot(coords, concentration, 'o', label='data')\n",
    "plt.plot(coords, fit_func(coords, *popt), 'g--',\n",
    "         label='fit')\n",
    "plt.title('Fit $c_b(y) = a \\cdot \\exp(-b \\cdot y)$:\\n'+\n",
    "         f'$a\\;=${popt[0]: .3},\\t$b\\;=${popt[1]: .4}')\n",
    "plt.xlabel('$y$')\n",
    "plt.ylabel('Concentration $c_b(y)$')\n",
    "plt.legend(loc=\"upper right\")\n",
    "plt.show()"
   ]
  },
  {
   "cell_type": "markdown",
   "id": "4eb31502",
   "metadata": {},
   "source": [
    "### Problem 5: Sweeping\n",
    "A single dataset is of course rarely sufficient to be confident about your predictions. In general, we are mostly interested in the dependence of observable quantities on experimental control parameters. A good way to test whether we got the right _formula_ for the characteristic length scale $\\ell$ is to sweep over a few parameters and check whether the results match our formula across the entire sweep range.\n",
    "\n",
    "Set up the sweep by completing the definition of the method ```simulate_and_fit```. Use this method to obtain a reasonable dataset, and compare it to the function for $\\ell$. If you feel like your results take too long to calculate, tinker the mesh parameters (spatial and temporal) to get faster results."
   ]
  },
  {
   "cell_type": "code",
   "execution_count": null,
   "id": "164d700c",
   "metadata": {},
   "outputs": [],
   "source": [
    "def simulate_and_fit(width=10, height=5, resolution=(2**5)/10,\n",
    "                    k_prod=1., k=0.1, k_degr=1., D_c=1., D_m=0.1):\n",
    "    # Make a new grid\n",
    "    grid = pde.CartesianGrid(\n",
    "        [[0, width], [0, height]],\n",
    "        [int(resolution*i) for i in [width, height]]\n",
    "    )\n",
    "    \n",
    "    # Define the membrane mask\n",
    "    membrane_mask = pde.ScalarField(grid, dtype=float)\n",
    "    membrane_mask.data[:, 0] = 1.0\n",
    "    \n",
    "    # Create the PDE object\n",
    "    expr = {'c_m': ## BLANK ##,\n",
    "            'c_b': ## BLANK ##}\n",
    "    eq = pde.PDE(expr, consts={'mask': membrane_mask})\n",
    "    \n",
    "    # Set initial concentrations\n",
    "    c_m = pde.ScalarField.random_uniform(grid) * ## BLANK ##\n",
    "    c_b = ## BLANK ##\n",
    "    \n",
    "    # Calculate the solution\n",
    "    field = pde.FieldCollection([c_m, c_b])\n",
    "    res = eq.solve(field, t_range=10, tracker=[])\n",
    "    \n",
    "    # Post-process the data\n",
    "    coords = grid._axes_coords[1]\n",
    "    concentration = res.data[1,0]\n",
    "    popt, pcov = scipy.optimize.curve_fit(fit_func, coords, concentration)\n",
    "    \n",
    "    # Return the (relevant) fit parameter: length scale\n",
    "    return popt[1]"
   ]
  },
  {
   "cell_type": "code",
   "execution_count": null,
   "id": "241361c5-718e-49cd-8839-e4bc95adffef",
   "metadata": {},
   "outputs": [],
   "source": [
    "# Set the sweep parameters (note: sweep over ~10 values)\n",
    "sweepParameters = np.power(10, ## BLANK ##)\n",
    "\n",
    "# Set up the sweep in a for loop\n",
    "sweepResults = []\n",
    "startTime = datetime.datetime.now()\n",
    "for _ in sweepParameters:\n",
    "    ETA(list(sweepParameters).index(_), len(sweepParameters), startTime)\n",
    "    fitResult = simulate_and_fit(## BLANK ## = _, width = 2.)\n",
    "    sweepResults.append(fitResult)\n",
    "\n",
    "# For convenience, convert the results to a numpy array\n",
    "sweepResults=np.array(sweepResults)\n",
    "print('Finished.' + \"\\t\"*100)"
   ]
  },
  {
   "cell_type": "code",
   "execution_count": null,
   "id": "3795f2d7",
   "metadata": {},
   "outputs": [],
   "source": [
    "# Define a high-resolution range for plotting the analytic function\n",
    "aRange = np.linspace(min(sweepParameters), max(sweepParameters), 100)\n",
    "\n",
    "# Plot the sweep results together with the prediction\n",
    "plt.plot(sweepParameters, 1/sweepResults, 'o', label='data')\n",
    "plt.plot(aRange, ## BLANK ##, label='prediction')\n",
    "plt.title(\"Characteristic length scale vs. diffusion constant\")\n",
    "plt.xlabel('Diffusion constant')\n",
    "plt.ylabel('Characteristic length scale $\\ell$')\n",
    "plt.legend()\n",
    "plt.show()"
   ]
  },
  {
   "cell_type": "markdown",
   "id": "18cd1285",
   "metadata": {},
   "source": [
    "### Problem 6: Interpretation\n",
    "Despite having done everything correctly, you will notice that the predicted (analytic) dependence of the length scale on the control parameters does not match the sweep for all tested parameters. Why? How could you solve this problem? What does this teach you about numerical simulations in general?\n",
    "\n",
    "_Hint: Plot one of the profiles where the fit does not match the prediction. What do you notice?_"
   ]
  }
 ],
 "metadata": {
  "kernelspec": {
   "display_name": "Python 3 (ipykernel)",
   "language": "python",
   "name": "python3"
  },
  "language_info": {
   "codemirror_mode": {
    "name": "ipython",
    "version": 3
   },
   "file_extension": ".py",
   "mimetype": "text/x-python",
   "name": "python",
   "nbconvert_exporter": "python",
   "pygments_lexer": "ipython3",
   "version": "3.9.9"
  }
 },
 "nbformat": 4,
 "nbformat_minor": 5
}
